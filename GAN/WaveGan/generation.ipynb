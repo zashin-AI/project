{
 "cells": [
  {
   "cell_type": "markdown",
   "metadata": {},
   "source": [
    "## Synthesising single samples from a trained model"
   ]
  },
  {
   "cell_type": "code",
   "execution_count": 13,
   "metadata": {},
   "outputs": [],
   "source": [
    "import tensorflow as tf\n",
    "import numpy as np\n",
    "import json\n",
    "from IPython.display import display, Audio\n",
    "from tqdm import tqdm\n",
    "import librosa"
   ]
  },
  {
   "cell_type": "markdown",
   "metadata": {},
   "source": [
    "#### Get the trained model and class labels"
   ]
  },
  {
   "cell_type": "code",
   "execution_count": 14,
   "metadata": {},
   "outputs": [],
   "source": [
    "path_to_generator = 'C:/nmb/nada/Jongho/checkpoints/18-04-2021_1h/generator.h5'\n",
    "path_to_labels = 'C:/nmb/nada/Jongho/checkpoints/18-04-2021_18h/label_names.json'\n",
    "z_dim = 100\n",
    "sample_rate = 22050"
   ]
  },
  {
   "cell_type": "code",
   "execution_count": 10,
   "metadata": {},
   "outputs": [
    {
     "output_type": "stream",
     "name": "stdout",
     "text": [
      "WARNING:tensorflow:No training configuration found in the save file, so the model was *not* compiled. Compile it manually.\n"
     ]
    }
   ],
   "source": [
    "#load the generator\n",
    "generator = tf.keras.models.load_model(path_to_generator)"
   ]
  },
  {
   "cell_type": "code",
   "execution_count": 15,
   "metadata": {},
   "outputs": [
    {
     "output_type": "execute_result",
     "data": {
      "text/plain": [
       "{'0': 'F', '1': 'M'}"
      ]
     },
     "metadata": {},
     "execution_count": 15
    }
   ],
   "source": [
    "#read the labels from the generated dictionary during training\n",
    "with open(path_to_labels) as json_file:\n",
    "    label_names = json.load(json_file)\n",
    "label_names"
   ]
  },
  {
   "cell_type": "markdown",
   "metadata": {},
   "source": [
    "#### Generating a single sample (with label)"
   ]
  },
  {
   "cell_type": "code",
   "execution_count": 16,
   "metadata": {},
   "outputs": [
    {
     "output_type": "stream",
     "name": "stdout",
     "text": [
      "Wall time: 1.28 s\n"
     ]
    }
   ],
   "source": [
    "#create noise and label\n",
    "label = 0\n",
    "noise = np.random.normal(0,1, (1, z_dim))\n",
    "label_synth = np.array(label).reshape(-1,1)\n",
    "\n",
    "#synthesise the audio\n",
    "%time synth_audio = generator.predict([noise, label_synth])\n",
    "\n",
    "#listen to the synthesised audio\n",
    "#display(Audio(np.squeeze(synth_audio[0]), rate = sample_rate))\n",
    "\n",
    "#listen to the synthesised audio\n",
    "import sounddevice as sd\n",
    "sd.play(np.squeeze(synth_audio[0]), sample_rate)"
   ]
  },
  {
   "cell_type": "markdown",
   "metadata": {},
   "source": [
    "### Batch generation"
   ]
  },
  {
   "cell_type": "code",
   "execution_count": 17,
   "metadata": {},
   "outputs": [],
   "source": [
    "#how many samples per label\n",
    "n_samples_label = 1200"
   ]
  },
  {
   "cell_type": "code",
   "execution_count": 18,
   "metadata": {},
   "outputs": [
    {
     "output_type": "stream",
     "name": "stderr",
     "text": [
      "100%|██████████| 2/2 [00:20<00:00, 10.21s/it]\n"
     ]
    }
   ],
   "source": [
    "for emotion in tqdm(label_names):\n",
    "    noise  = tf.random.normal(shape=(n_samples_label, z_dim))\n",
    "    label_synth = tf.constant(int(emotion), shape=(n_samples_label,1))\n",
    "    synth_audio = generator.predict([noise, label_synth])\n",
    "    for i in range(n_samples_label):\n",
    "        librosa.output.write_wav(f'C:/nmb/nmb_data/new_data10/{label_names[emotion]}_{i}.wav', y = np.squeeze(synth_audio[i]), sr = sample_rate, norm=False) "
   ]
  },
  {
   "cell_type": "code",
   "execution_count": null,
   "metadata": {},
   "outputs": [],
   "source": []
  }
 ],
 "metadata": {
  "kernelspec": {
   "name": "python385jvsc74a57bd01fd875749f249d1091336c66e0577a1f18501071ceac66444486e3b9bdb88164",
   "display_name": "Python 3.8.5 64-bit (conda)"
  },
  "language_info": {
   "codemirror_mode": {
    "name": "ipython",
    "version": 3
   },
   "file_extension": ".py",
   "mimetype": "text/x-python",
   "name": "python",
   "nbconvert_exporter": "python",
   "pygments_lexer": "ipython3",
   "version": "3.8.5-final"
  }
 },
 "nbformat": 4,
 "nbformat_minor": 4
}